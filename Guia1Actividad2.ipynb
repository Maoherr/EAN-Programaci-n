{
 "cells": [
  {
   "cell_type": "code",
   "execution_count": 1,
   "id": "3681ea9e-cb59-4ac3-a938-d621acfe272c",
   "metadata": {},
   "outputs": [],
   "source": [
    "import pandas as pd"
   ]
  },
  {
   "cell_type": "markdown",
   "id": "80ab3a76-4972-490d-acd1-7a420914c333",
   "metadata": {},
   "source": [
    "Se crea una funcion llamada *explorar_variables* con el proposito de cargar el Dataframe para analizar, analizar las variables del Dataframe y generar un diccionario.  \n",
    "El argumento de entrada de la funcion *explorar_variables* es el DataFrame *df*, la cual incluye los datos del archivo a analizar.  \n",
    "La salida de la funcion *explorar_variables* es un diccionario con la inforamción de cada variable analizada.  \n",
    "**Args**  \n",
    "*df*: La ruta completa al archivo de datos.  \n",
    "**Returns**  \n",
    "Un diccionario con la información de cada variable."
   ]
  },
  {
   "cell_type": "code",
   "execution_count": 4,
   "id": "ef4e856a-dd0a-4cbf-a301-2fe0cae0f981",
   "metadata": {},
   "outputs": [],
   "source": [
    "def explorar_variables(df):\n",
    "  # 1. La base de datos ingresa cargada en un dataframe\n",
    "  # Se crea el diccionario report\n",
    "  report = {}\n",
    " # Utilizamos ciclo for para analizar columna a columna del DataFrame  \n",
    "  for column in df.columns:\n",
    "    variable_info = {\n",
    "      'Tipo': df[column].dtype,\n",
    "      'Valores únicos': df[column].nunique(),\n",
    "      'Valores nulos': df[column].isnull().sum(),\n",
    "      'Primeros 5 valores': df[column].head().tolist(),\n",
    "      'Descripción': df[column].describe(),\n",
    "      'Análisis': '' \n",
    "    }\n",
    "\n",
    "   # Utilizamos la funcion if para  realizar el Análisis específico según tipo de variable\n",
    "    if variable_info['Tipo'] == 'object':\n",
    "      variable_info['Análisis'] = \"Variable de tipo texto. \"\n",
    "      variable_info['Análisis'] += \"Verificar si hay caracteres especiales o errores de formato.\"\n",
    "    elif variable_info['Tipo'] == 'int64' or variable_info['Tipo'] == 'float64':\n",
    "      variable_info['Análisis'] = \"Variable numérica. \"\n",
    "      variable_info['Análisis'] += \"Verificar si hay valores atípicos o outliers.\"\n",
    "    else:\n",
    "      variable_info['Análisis'] = \"Variable de otro tipo.\"\n",
    "\n",
    "    report[column] = variable_info\n",
    "  return report"
   ]
  },
  {
   "cell_type": "markdown",
   "id": "f4517dfb-d009-4549-a281-dafc65c29fc3",
   "metadata": {},
   "source": [
    "Aplica limpieza a una variable según el método elegido.  \n",
    "Se crea una funcion llamada *limpiar_variable* con el proposito de limpiar cualquiera de las variables del Dataframe analizado, según el método elegido.  \n",
    "El argumento de entrada de la funcion *limpiar_variable* es el DataFrame *df*, el cual incluye los datos del archivo a analizado, la *varaible* a limpiar, y el *metodo* de limpieza.  \n",
    "La salida de la funcion *limpiar_variable* es el DataFrame *df* con la variable ya limpia.  \n",
    "\n",
    "\n",
    "**Args**  \n",
    "*df*: DataFrame con la variable a limpiar.  \n",
    "*variable*: Nombre de la variable.  \n",
    "*metodo*: Método de limpieza a aplicar.  \n",
    "**Returns**  \n",
    "DataFrame con la variableimpiadada."
   ]
  },
  {
   "cell_type": "code",
   "execution_count": 7,
   "id": "f26aa93c-9e85-452e-87f6-2597cf50a0d7",
   "metadata": {},
   "outputs": [],
   "source": [
    "def limpiar_variable(df, variable, metodo):\n",
    "  if metodo == 'eliminar_caracteres':\n",
    "    df[variable] = df[variable].str.replace('[^a-zA-Z0-9 ]', '', regex=True)\n",
    "  elif metodo == 'reemplazar_valores_nulos':\n",
    "    df[variable].fillna(method='ffill', inplace=True)  # Rellenar con el valor anterior\n",
    "  elif metodo == 'eliminar_duplicados':\n",
    "    df.drop_duplicates(subset=[variable], inplace=True)\n",
    "  else:\n",
    "    print(f\"Método de limpieza '{metodo}' no encontrado.\")\n",
    "\n",
    "  return df\n"
   ]
  },
  {
   "cell_type": "code",
   "execution_count": 9,
   "id": "33d3f49b-edfc-46b9-82b9-27e99d30d77f",
   "metadata": {},
   "outputs": [],
   "source": [
    "# Cargar la base de datos\n",
    "df = pd.read_csv('titanic.csv') # Reemplaza 'tu_base_de_datos.csv' con el nombre real"
   ]
  },
  {
   "cell_type": "code",
   "execution_count": 11,
   "id": "98bde5e6-1550-47a1-81f1-68c4e02cdada",
   "metadata": {},
   "outputs": [],
   "source": [
    "# Explorar las variables\n",
    "report = explorar_variables(df)"
   ]
  },
  {
   "cell_type": "code",
   "execution_count": 13,
   "id": "18079222-c572-4b2f-b5d3-24b5979d2662",
   "metadata": {},
   "outputs": [
    {
     "name": "stdout",
     "output_type": "stream",
     "text": [
      "Informe de variables:\n",
      "Variable: Survived\n",
      "  Tipo: int64\n",
      "  Valores únicos: 2\n",
      "  Valores nulos: 0\n",
      "  Primeros 5 valores: [0, 1, 1, 1, 0]\n",
      "  Descripción: count    887.000000\n",
      "mean       0.385569\n",
      "std        0.487004\n",
      "min        0.000000\n",
      "25%        0.000000\n",
      "50%        0.000000\n",
      "75%        1.000000\n",
      "max        1.000000\n",
      "Name: Survived, dtype: float64\n",
      "  Análisis: Variable numérica. Verificar si hay valores atípicos o outliers.\n",
      "\n",
      "Variable: Pclass\n",
      "  Tipo: int64\n",
      "  Valores únicos: 3\n",
      "  Valores nulos: 0\n",
      "  Primeros 5 valores: [3, 1, 3, 1, 3]\n",
      "  Descripción: count    887.000000\n",
      "mean       2.305524\n",
      "std        0.836662\n",
      "min        1.000000\n",
      "25%        2.000000\n",
      "50%        3.000000\n",
      "75%        3.000000\n",
      "max        3.000000\n",
      "Name: Pclass, dtype: float64\n",
      "  Análisis: Variable numérica. Verificar si hay valores atípicos o outliers.\n",
      "\n",
      "Variable: Name\n",
      "  Tipo: object\n",
      "  Valores únicos: 887\n",
      "  Valores nulos: 0\n",
      "  Primeros 5 valores: ['Mr. Owen Harris Braund', 'Mrs. John Bradley (Florence Briggs Thayer) Cumings', 'Miss. Laina Heikkinen', 'Mrs. Jacques Heath (Lily May Peel) Futrelle', 'Mr. William Henry Allen']\n",
      "  Descripción: count                        887\n",
      "unique                       887\n",
      "top       Mr. Owen Harris Braund\n",
      "freq                           1\n",
      "Name: Name, dtype: object\n",
      "  Análisis: Variable de tipo texto. Verificar si hay caracteres especiales o errores de formato.\n",
      "\n",
      "Variable: Sex\n",
      "  Tipo: object\n",
      "  Valores únicos: 2\n",
      "  Valores nulos: 0\n",
      "  Primeros 5 valores: ['male', 'female', 'female', 'female', 'male']\n",
      "  Descripción: count      887\n",
      "unique       2\n",
      "top       male\n",
      "freq       573\n",
      "Name: Sex, dtype: object\n",
      "  Análisis: Variable de tipo texto. Verificar si hay caracteres especiales o errores de formato.\n",
      "\n",
      "Variable: Age\n",
      "  Tipo: float64\n",
      "  Valores únicos: 89\n",
      "  Valores nulos: 0\n",
      "  Primeros 5 valores: [22.0, 38.0, 26.0, 35.0, 35.0]\n",
      "  Descripción: count    887.000000\n",
      "mean      29.471443\n",
      "std       14.121908\n",
      "min        0.420000\n",
      "25%       20.250000\n",
      "50%       28.000000\n",
      "75%       38.000000\n",
      "max       80.000000\n",
      "Name: Age, dtype: float64\n",
      "  Análisis: Variable numérica. Verificar si hay valores atípicos o outliers.\n",
      "\n",
      "Variable: Siblings/Spouses Aboard\n",
      "  Tipo: int64\n",
      "  Valores únicos: 7\n",
      "  Valores nulos: 0\n",
      "  Primeros 5 valores: [1, 1, 0, 1, 0]\n",
      "  Descripción: count    887.000000\n",
      "mean       0.525366\n",
      "std        1.104669\n",
      "min        0.000000\n",
      "25%        0.000000\n",
      "50%        0.000000\n",
      "75%        1.000000\n",
      "max        8.000000\n",
      "Name: Siblings/Spouses Aboard, dtype: float64\n",
      "  Análisis: Variable numérica. Verificar si hay valores atípicos o outliers.\n",
      "\n",
      "Variable: Parents/Children Aboard\n",
      "  Tipo: int64\n",
      "  Valores únicos: 7\n",
      "  Valores nulos: 0\n",
      "  Primeros 5 valores: [0, 0, 0, 0, 0]\n",
      "  Descripción: count    887.000000\n",
      "mean       0.383315\n",
      "std        0.807466\n",
      "min        0.000000\n",
      "25%        0.000000\n",
      "50%        0.000000\n",
      "75%        0.000000\n",
      "max        6.000000\n",
      "Name: Parents/Children Aboard, dtype: float64\n",
      "  Análisis: Variable numérica. Verificar si hay valores atípicos o outliers.\n",
      "\n",
      "Variable: Fare\n",
      "  Tipo: float64\n",
      "  Valores únicos: 248\n",
      "  Valores nulos: 0\n",
      "  Primeros 5 valores: [7.25, 71.2833, 7.925, 53.1, 8.05]\n",
      "  Descripción: count    887.00000\n",
      "mean      32.30542\n",
      "std       49.78204\n",
      "min        0.00000\n",
      "25%        7.92500\n",
      "50%       14.45420\n",
      "75%       31.13750\n",
      "max      512.32920\n",
      "Name: Fare, dtype: float64\n",
      "  Análisis: Variable numérica. Verificar si hay valores atípicos o outliers.\n",
      "\n"
     ]
    }
   ],
   "source": [
    "# Imprimir el informe\n",
    "print(\"Informe de variables:\")\n",
    "for variable, info in report.items():\n",
    "  print(f\"Variable: {variable}\")\n",
    "  for key, value in info.items():\n",
    "    print(f\"  {key}: {value}\")\n",
    "  print()"
   ]
  },
  {
   "cell_type": "markdown",
   "id": "7a373969-6b75-4862-adb2-186a4c5adbc7",
   "metadata": {},
   "source": [
    "Según el analisis no se encontro ningún elemento nulo. Por tanto, no hay que hacer limpieza."
   ]
  },
  {
   "cell_type": "code",
   "execution_count": null,
   "id": "5cf3243d-ab51-4c17-aed6-c47b5de112b9",
   "metadata": {},
   "outputs": [],
   "source": [
    "# Seleccionar una variable para limpiar\n",
    "variable_a_limpiar = 'nombre_de_la_variable'  # Reemplaza con el nombre de la variable a limpiar"
   ]
  },
  {
   "cell_type": "code",
   "execution_count": null,
   "id": "44c90704-6d51-4b03-b14f-bd9c925ae43c",
   "metadata": {},
   "outputs": [],
   "source": [
    "# Seleccionar el método de limpieza\n",
    "metodo_de_limpieza = 'eliminar_caracteres'  # Ejemplos: 'eliminar_caracteres', 'reemplazar_valores_nulos', 'eliminar_duplicados'"
   ]
  },
  {
   "cell_type": "code",
   "execution_count": null,
   "id": "504b9634-4d94-4044-bec8-43e4c630dded",
   "metadata": {},
   "outputs": [],
   "source": [
    "# Limpiar la variable\n",
    "df = limpiar_variable(df, variable_a_limpiar, metodo_de_limpieza)"
   ]
  },
  {
   "cell_type": "code",
   "execution_count": null,
   "id": "42ff14f4-745c-42e0-b1bb-7f61875d40c6",
   "metadata": {},
   "outputs": [],
   "source": [
    "# Imprimir el DataFrame limpio\n",
    "print(\"DataFrame después de la limpieza:\")\n",
    "print(df)"
   ]
  },
  {
   "cell_type": "code",
   "execution_count": null,
   "id": "91e296aa-f254-4034-bfe6-a5e15c19a706",
   "metadata": {},
   "outputs": [],
   "source": [
    "# Guardar el DataFrame limpio (opcional)\n",
    "df.to_csv('tu_base_de_datos_limpia.csv', index=False)"
   ]
  }
 ],
 "metadata": {
  "kernelspec": {
   "display_name": "Python 3 (ipykernel)",
   "language": "python",
   "name": "python3"
  },
  "language_info": {
   "codemirror_mode": {
    "name": "ipython",
    "version": 3
   },
   "file_extension": ".py",
   "mimetype": "text/x-python",
   "name": "python",
   "nbconvert_exporter": "python",
   "pygments_lexer": "ipython3",
   "version": "3.11.7"
  }
 },
 "nbformat": 4,
 "nbformat_minor": 5
}
