{
 "cells": [
  {
   "cell_type": "code",
   "execution_count": null,
   "id": "c0ceaa4b-632a-491b-ba94-6e967c06ae4c",
   "metadata": {},
   "outputs": [],
   "source": [
    "#Iniciamos importando nuestra conocidad libreria de Pandas\n",
    "import pandas as pd\n",
    "ruta_archivo = 'census_income.csv'  # Esta variable global contiene la ruta al archivo de datos para analizar"
   ]
  },
  {
   "cell_type": "markdown",
   "id": "2b5fa671-0608-4f61-b26c-3e47a74175f5",
   "metadata": {},
   "source": [
    "Se crea una funcion llamada *analizar_datos* con el proposito de cargar el archivo de datos para analizar, analizar las variables del archivo cargado y generar un informe.  \n",
    "El argumento de entrada de la funcion *analizar_datos* es la variable global *ruta_archivo*, la cual incluye la ruta y nombre del archivo a analizar.  \n",
    "La salida de la funcion *analizar_datos* es un DataFrame local llamado *resultados* con los valores de las variables analizadas.  \n",
    "**Args**  \n",
    "*ruta_archivo*: La ruta completa al archivo de datos.  \n",
    "**Returns**  \n",
    "*resultados*: Dataframe con las variables analizadas."
   ]
  },
  {
   "cell_type": "code",
   "execution_count": null,
   "id": "f25c59b5-8091-4430-abb9-043c6402088b",
   "metadata": {},
   "outputs": [],
   "source": [
    "def analizar_datos(ruta_archivo):\n",
    "  \n",
    "  # 1. Cargar la base de datos en un DataFrame\n",
    "  df = pd.read_csv(ruta_archivo)\n",
    "  \n",
    "  # 2. Empezar a revisar las variables determinando el tipo de cada una de las variables.\n",
    "  tipos_de_variables = df.dtypes\n",
    "\n",
    "  # 3. Aplicar las funciones según cada tipo de variable.\n",
    "  resultados = [] # Creamos un DataFrame local para almacenar el resultado del analisis de las variables\n",
    "  # Utilizamos ciclo for para analizar columna a columna del DataFrame \n",
    "  for columna, tipo in tipos_de_variables.items(): \n",
    "     # Utilizamos la funcion if paa preguntar si la Variable es Categórica \n",
    "    if tipo == 'object': \n",
    "      # Variables categóricas\n",
    "      valores_unicos = df[columna].nunique()\n",
    "      frecuencias = df[columna].value_counts()\n",
    "      resultados.append({\n",
    "          'Variable': columna,\n",
    "          'Tipo': 'Categórica',\n",
    "          'Valores únicos': valores_unicos,\n",
    "          'Frecuencias': frecuencias\n",
    "      })\n",
    "    # En caso contrario se pregunta si la Variable es Numérica\n",
    "    elif tipo in ['int64', 'float64']:\n",
    "      # Variables numéricas\n",
    "      media = df[columna].mean()\n",
    "      desviacion_estandar = df[columna].std()\n",
    "      minimo = df[columna].min()\n",
    "      maximo = df[columna].max()\n",
    "      resultados.append({\n",
    "          'Variable': columna,\n",
    "          'Tipo': 'Numérica',\n",
    "          'Media': media,\n",
    "          'Desviación estándar': desviacion_estandar,\n",
    "          'Mínimo': minimo,\n",
    "          'Máximo': maximo\n",
    "      })\n",
    "    # en caso de que la Variable no se ni Categórica ni Numérica simplemente la describimos \n",
    "    else:\n",
    "      # Otros tipos de datos\n",
    "      resultados.append({\n",
    "          'Variable': columna,\n",
    "          'Tipo': tipo,\n",
    "          'Descripción': 'No se aplicó análisis específico.'\n",
    "      })\n",
    "\n",
    "  # 4. Realizar un informe sobre las variables que se exploraron.\n",
    "  informe = pd.DataFrame(resultados)\n",
    "  return informe\n"
   ]
  },
  {
   "cell_type": "code",
   "execution_count": null,
   "id": "7282245b-86d9-4790-9d9d-8cd04847a167",
   "metadata": {},
   "outputs": [],
   "source": [
    "# Uso de la función analizar_datos para crear el informe el informe del archivo para analizar:\n",
    "informe = analizar_datos(ruta_archivo)\n",
    "print(informe)"
   ]
  }
 ],
 "metadata": {
  "kernelspec": {
   "display_name": "Python 3 (ipykernel)",
   "language": "python",
   "name": "python3"
  },
  "language_info": {
   "codemirror_mode": {
    "name": "ipython",
    "version": 3
   },
   "file_extension": ".py",
   "mimetype": "text/x-python",
   "name": "python",
   "nbconvert_exporter": "python",
   "pygments_lexer": "ipython3",
   "version": "3.11.7"
  }
 },
 "nbformat": 4,
 "nbformat_minor": 5
}
